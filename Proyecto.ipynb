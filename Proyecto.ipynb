{
  "nbformat": 4,
  "nbformat_minor": 0,
  "metadata": {
    "colab": {
      "name": "Proyecto.ipynb",
      "provenance": [],
      "authorship_tag": "ABX9TyPC9H3azqrv5eaEg6f/1ZF4",
      "include_colab_link": true
    },
    "kernelspec": {
      "name": "python3",
      "display_name": "Python 3"
    },
    "language_info": {
      "name": "python"
    }
  },
  "cells": [
    {
      "cell_type": "markdown",
      "metadata": {
        "id": "view-in-github",
        "colab_type": "text"
      },
      "source": [
        "<a href=\"https://colab.research.google.com/github/JFGA96/JFGA96.github.io/blob/master/Proyecto.ipynb\" target=\"_parent\"><img src=\"https://colab.research.google.com/assets/colab-badge.svg\" alt=\"Open In Colab\"/></a>"
      ]
    },
    {
      "cell_type": "markdown",
      "source": [
        "##**Para traer el CSV se hace directamente con una cuenta de Google**"
      ],
      "metadata": {
        "id": "FIavEfu1JBnb"
      }
    },
    {
      "cell_type": "code",
      "source": [
        "!pip install -U -q PyDrive \n",
        "  \n",
        "from pydrive.auth import GoogleAuth \n",
        "from pydrive.drive import GoogleDrive \n",
        "from google.colab import auth \n",
        "from oauth2client.client import GoogleCredentials \n",
        "  \n",
        "  \n",
        "auth.authenticate_user() \n",
        "gauth = GoogleAuth() \n",
        "gauth.credentials = GoogleCredentials.get_application_default() \n",
        "drive = GoogleDrive(gauth)"
      ],
      "metadata": {
        "id": "By_YShxpIU-y"
      },
      "execution_count": 3,
      "outputs": []
    },
    {
      "cell_type": "markdown",
      "source": [
        "## **Se da el link del cual se quiere traer el csv y a traves de pandas se obtiene el dataframe**"
      ],
      "metadata": {
        "id": "YQelDs1yJUSn"
      }
    },
    {
      "cell_type": "code",
      "execution_count": 4,
      "metadata": {
        "id": "-h3VXufM6vB0"
      },
      "outputs": [],
      "source": [
        "link = 'https://drive.google.com/file/d/1uR5s0ol8E1nR_qAMu5iGzwNloRZip8xK/view?usp=s'\n",
        "  \n",
        "import pandas as pd \n",
        "  \n",
        "id = link.split(\"/\")[-2] \n",
        "  \n",
        "downloaded = drive.CreateFile({'id':id})  \n",
        "downloaded.GetContentFile('Reviews.csv')   \n",
        "\n"
      ]
    },
    {
      "cell_type": "code",
      "source": [
        "  \n",
        "df = pd.read_csv('Reviews.csv',sep=',') \n",
        "df.head(8)"
      ],
      "metadata": {
        "colab": {
          "base_uri": "https://localhost:8080/",
          "height": 483
        },
        "id": "THZNAjBQLeHL",
        "outputId": "141dc0d5-22c0-44a0-aa6c-4358532cff8a"
      },
      "execution_count": 5,
      "outputs": [
        {
          "output_type": "execute_result",
          "data": {
            "text/plain": [
              "   Id   ProductId          UserId                      ProfileName  \\\n",
              "0   1  B001E4KFG0  A3SGXH7AUHU8GW                       delmartian   \n",
              "1   2  B00813GRG4  A1D87F6ZCVE5NK                           dll pa   \n",
              "2   3  B000LQOCH0   ABXLMWJIXXAIN  Natalia Corres \"Natalia Corres\"   \n",
              "3   4  B000UA0QIQ  A395BORC6FGVXV                             Karl   \n",
              "4   5  B006K2ZZ7K  A1UQRSCLF8GW1T    Michael D. Bigham \"M. Wassir\"   \n",
              "5   6  B006K2ZZ7K   ADT0SRK1MGOEU                   Twoapennything   \n",
              "6   7  B006K2ZZ7K  A1SP2KVKFXXRU1                David C. Sullivan   \n",
              "7   8  B006K2ZZ7K  A3JRGQVEQN31IQ               Pamela G. Williams   \n",
              "\n",
              "   HelpfulnessNumerator  HelpfulnessDenominator  Score        Time  \\\n",
              "0                     1                       1      5  1303862400   \n",
              "1                     0                       0      1  1346976000   \n",
              "2                     1                       1      4  1219017600   \n",
              "3                     3                       3      2  1307923200   \n",
              "4                     0                       0      5  1350777600   \n",
              "5                     0                       0      4  1342051200   \n",
              "6                     0                       0      5  1340150400   \n",
              "7                     0                       0      5  1336003200   \n",
              "\n",
              "                                         Summary  \\\n",
              "0                          Good Quality Dog Food   \n",
              "1                              Not as Advertised   \n",
              "2                          \"Delight\" says it all   \n",
              "3                                 Cough Medicine   \n",
              "4                                    Great taffy   \n",
              "5                                     Nice Taffy   \n",
              "6  Great!  Just as good as the expensive brands!   \n",
              "7                         Wonderful, tasty taffy   \n",
              "\n",
              "                                                Text  \n",
              "0  I have bought several of the Vitality canned d...  \n",
              "1  Product arrived labeled as Jumbo Salted Peanut...  \n",
              "2  This is a confection that has been around a fe...  \n",
              "3  If you are looking for the secret ingredient i...  \n",
              "4  Great taffy at a great price.  There was a wid...  \n",
              "5  I got a wild hair for taffy and ordered this f...  \n",
              "6  This saltwater taffy had great flavors and was...  \n",
              "7  This taffy is so good.  It is very soft and ch...  "
            ],
            "text/html": [
              "\n",
              "  <div id=\"df-8adb9788-3ef5-48c9-9546-0dbf117548e3\">\n",
              "    <div class=\"colab-df-container\">\n",
              "      <div>\n",
              "<style scoped>\n",
              "    .dataframe tbody tr th:only-of-type {\n",
              "        vertical-align: middle;\n",
              "    }\n",
              "\n",
              "    .dataframe tbody tr th {\n",
              "        vertical-align: top;\n",
              "    }\n",
              "\n",
              "    .dataframe thead th {\n",
              "        text-align: right;\n",
              "    }\n",
              "</style>\n",
              "<table border=\"1\" class=\"dataframe\">\n",
              "  <thead>\n",
              "    <tr style=\"text-align: right;\">\n",
              "      <th></th>\n",
              "      <th>Id</th>\n",
              "      <th>ProductId</th>\n",
              "      <th>UserId</th>\n",
              "      <th>ProfileName</th>\n",
              "      <th>HelpfulnessNumerator</th>\n",
              "      <th>HelpfulnessDenominator</th>\n",
              "      <th>Score</th>\n",
              "      <th>Time</th>\n",
              "      <th>Summary</th>\n",
              "      <th>Text</th>\n",
              "    </tr>\n",
              "  </thead>\n",
              "  <tbody>\n",
              "    <tr>\n",
              "      <th>0</th>\n",
              "      <td>1</td>\n",
              "      <td>B001E4KFG0</td>\n",
              "      <td>A3SGXH7AUHU8GW</td>\n",
              "      <td>delmartian</td>\n",
              "      <td>1</td>\n",
              "      <td>1</td>\n",
              "      <td>5</td>\n",
              "      <td>1303862400</td>\n",
              "      <td>Good Quality Dog Food</td>\n",
              "      <td>I have bought several of the Vitality canned d...</td>\n",
              "    </tr>\n",
              "    <tr>\n",
              "      <th>1</th>\n",
              "      <td>2</td>\n",
              "      <td>B00813GRG4</td>\n",
              "      <td>A1D87F6ZCVE5NK</td>\n",
              "      <td>dll pa</td>\n",
              "      <td>0</td>\n",
              "      <td>0</td>\n",
              "      <td>1</td>\n",
              "      <td>1346976000</td>\n",
              "      <td>Not as Advertised</td>\n",
              "      <td>Product arrived labeled as Jumbo Salted Peanut...</td>\n",
              "    </tr>\n",
              "    <tr>\n",
              "      <th>2</th>\n",
              "      <td>3</td>\n",
              "      <td>B000LQOCH0</td>\n",
              "      <td>ABXLMWJIXXAIN</td>\n",
              "      <td>Natalia Corres \"Natalia Corres\"</td>\n",
              "      <td>1</td>\n",
              "      <td>1</td>\n",
              "      <td>4</td>\n",
              "      <td>1219017600</td>\n",
              "      <td>\"Delight\" says it all</td>\n",
              "      <td>This is a confection that has been around a fe...</td>\n",
              "    </tr>\n",
              "    <tr>\n",
              "      <th>3</th>\n",
              "      <td>4</td>\n",
              "      <td>B000UA0QIQ</td>\n",
              "      <td>A395BORC6FGVXV</td>\n",
              "      <td>Karl</td>\n",
              "      <td>3</td>\n",
              "      <td>3</td>\n",
              "      <td>2</td>\n",
              "      <td>1307923200</td>\n",
              "      <td>Cough Medicine</td>\n",
              "      <td>If you are looking for the secret ingredient i...</td>\n",
              "    </tr>\n",
              "    <tr>\n",
              "      <th>4</th>\n",
              "      <td>5</td>\n",
              "      <td>B006K2ZZ7K</td>\n",
              "      <td>A1UQRSCLF8GW1T</td>\n",
              "      <td>Michael D. Bigham \"M. Wassir\"</td>\n",
              "      <td>0</td>\n",
              "      <td>0</td>\n",
              "      <td>5</td>\n",
              "      <td>1350777600</td>\n",
              "      <td>Great taffy</td>\n",
              "      <td>Great taffy at a great price.  There was a wid...</td>\n",
              "    </tr>\n",
              "    <tr>\n",
              "      <th>5</th>\n",
              "      <td>6</td>\n",
              "      <td>B006K2ZZ7K</td>\n",
              "      <td>ADT0SRK1MGOEU</td>\n",
              "      <td>Twoapennything</td>\n",
              "      <td>0</td>\n",
              "      <td>0</td>\n",
              "      <td>4</td>\n",
              "      <td>1342051200</td>\n",
              "      <td>Nice Taffy</td>\n",
              "      <td>I got a wild hair for taffy and ordered this f...</td>\n",
              "    </tr>\n",
              "    <tr>\n",
              "      <th>6</th>\n",
              "      <td>7</td>\n",
              "      <td>B006K2ZZ7K</td>\n",
              "      <td>A1SP2KVKFXXRU1</td>\n",
              "      <td>David C. Sullivan</td>\n",
              "      <td>0</td>\n",
              "      <td>0</td>\n",
              "      <td>5</td>\n",
              "      <td>1340150400</td>\n",
              "      <td>Great!  Just as good as the expensive brands!</td>\n",
              "      <td>This saltwater taffy had great flavors and was...</td>\n",
              "    </tr>\n",
              "    <tr>\n",
              "      <th>7</th>\n",
              "      <td>8</td>\n",
              "      <td>B006K2ZZ7K</td>\n",
              "      <td>A3JRGQVEQN31IQ</td>\n",
              "      <td>Pamela G. Williams</td>\n",
              "      <td>0</td>\n",
              "      <td>0</td>\n",
              "      <td>5</td>\n",
              "      <td>1336003200</td>\n",
              "      <td>Wonderful, tasty taffy</td>\n",
              "      <td>This taffy is so good.  It is very soft and ch...</td>\n",
              "    </tr>\n",
              "  </tbody>\n",
              "</table>\n",
              "</div>\n",
              "      <button class=\"colab-df-convert\" onclick=\"convertToInteractive('df-8adb9788-3ef5-48c9-9546-0dbf117548e3')\"\n",
              "              title=\"Convert this dataframe to an interactive table.\"\n",
              "              style=\"display:none;\">\n",
              "        \n",
              "  <svg xmlns=\"http://www.w3.org/2000/svg\" height=\"24px\"viewBox=\"0 0 24 24\"\n",
              "       width=\"24px\">\n",
              "    <path d=\"M0 0h24v24H0V0z\" fill=\"none\"/>\n",
              "    <path d=\"M18.56 5.44l.94 2.06.94-2.06 2.06-.94-2.06-.94-.94-2.06-.94 2.06-2.06.94zm-11 1L8.5 8.5l.94-2.06 2.06-.94-2.06-.94L8.5 2.5l-.94 2.06-2.06.94zm10 10l.94 2.06.94-2.06 2.06-.94-2.06-.94-.94-2.06-.94 2.06-2.06.94z\"/><path d=\"M17.41 7.96l-1.37-1.37c-.4-.4-.92-.59-1.43-.59-.52 0-1.04.2-1.43.59L10.3 9.45l-7.72 7.72c-.78.78-.78 2.05 0 2.83L4 21.41c.39.39.9.59 1.41.59.51 0 1.02-.2 1.41-.59l7.78-7.78 2.81-2.81c.8-.78.8-2.07 0-2.86zM5.41 20L4 18.59l7.72-7.72 1.47 1.35L5.41 20z\"/>\n",
              "  </svg>\n",
              "      </button>\n",
              "      \n",
              "  <style>\n",
              "    .colab-df-container {\n",
              "      display:flex;\n",
              "      flex-wrap:wrap;\n",
              "      gap: 12px;\n",
              "    }\n",
              "\n",
              "    .colab-df-convert {\n",
              "      background-color: #E8F0FE;\n",
              "      border: none;\n",
              "      border-radius: 50%;\n",
              "      cursor: pointer;\n",
              "      display: none;\n",
              "      fill: #1967D2;\n",
              "      height: 32px;\n",
              "      padding: 0 0 0 0;\n",
              "      width: 32px;\n",
              "    }\n",
              "\n",
              "    .colab-df-convert:hover {\n",
              "      background-color: #E2EBFA;\n",
              "      box-shadow: 0px 1px 2px rgba(60, 64, 67, 0.3), 0px 1px 3px 1px rgba(60, 64, 67, 0.15);\n",
              "      fill: #174EA6;\n",
              "    }\n",
              "\n",
              "    [theme=dark] .colab-df-convert {\n",
              "      background-color: #3B4455;\n",
              "      fill: #D2E3FC;\n",
              "    }\n",
              "\n",
              "    [theme=dark] .colab-df-convert:hover {\n",
              "      background-color: #434B5C;\n",
              "      box-shadow: 0px 1px 3px 1px rgba(0, 0, 0, 0.15);\n",
              "      filter: drop-shadow(0px 1px 2px rgba(0, 0, 0, 0.3));\n",
              "      fill: #FFFFFF;\n",
              "    }\n",
              "  </style>\n",
              "\n",
              "      <script>\n",
              "        const buttonEl =\n",
              "          document.querySelector('#df-8adb9788-3ef5-48c9-9546-0dbf117548e3 button.colab-df-convert');\n",
              "        buttonEl.style.display =\n",
              "          google.colab.kernel.accessAllowed ? 'block' : 'none';\n",
              "\n",
              "        async function convertToInteractive(key) {\n",
              "          const element = document.querySelector('#df-8adb9788-3ef5-48c9-9546-0dbf117548e3');\n",
              "          const dataTable =\n",
              "            await google.colab.kernel.invokeFunction('convertToInteractive',\n",
              "                                                     [key], {});\n",
              "          if (!dataTable) return;\n",
              "\n",
              "          const docLinkHtml = 'Like what you see? Visit the ' +\n",
              "            '<a target=\"_blank\" href=https://colab.research.google.com/notebooks/data_table.ipynb>data table notebook</a>'\n",
              "            + ' to learn more about interactive tables.';\n",
              "          element.innerHTML = '';\n",
              "          dataTable['output_type'] = 'display_data';\n",
              "          await google.colab.output.renderOutput(dataTable, element);\n",
              "          const docLink = document.createElement('div');\n",
              "          docLink.innerHTML = docLinkHtml;\n",
              "          element.appendChild(docLink);\n",
              "        }\n",
              "      </script>\n",
              "    </div>\n",
              "  </div>\n",
              "  "
            ]
          },
          "metadata": {},
          "execution_count": 5
        }
      ]
    },
    {
      "cell_type": "code",
      "source": [
        "cantDatos=df.shape\n",
        "print(cantDatos)"
      ],
      "metadata": {
        "colab": {
          "base_uri": "https://localhost:8080/"
        },
        "id": "X05KktKkJqhC",
        "outputId": "43c4e56d-2fb2-4871-c7fd-fda3d8e5a559"
      },
      "execution_count": 6,
      "outputs": [
        {
          "output_type": "stream",
          "name": "stdout",
          "text": [
            "(568454, 10)\n"
          ]
        }
      ]
    },
    {
      "cell_type": "code",
      "source": [
        "df.info()"
      ],
      "metadata": {
        "colab": {
          "base_uri": "https://localhost:8080/"
        },
        "id": "0-ObMU1SISlO",
        "outputId": "1bb29b87-908c-40eb-c9b5-341f6e96c269"
      },
      "execution_count": 7,
      "outputs": [
        {
          "output_type": "stream",
          "name": "stdout",
          "text": [
            "<class 'pandas.core.frame.DataFrame'>\n",
            "RangeIndex: 568454 entries, 0 to 568453\n",
            "Data columns (total 10 columns):\n",
            " #   Column                  Non-Null Count   Dtype \n",
            "---  ------                  --------------   ----- \n",
            " 0   Id                      568454 non-null  int64 \n",
            " 1   ProductId               568454 non-null  object\n",
            " 2   UserId                  568454 non-null  object\n",
            " 3   ProfileName             568438 non-null  object\n",
            " 4   HelpfulnessNumerator    568454 non-null  int64 \n",
            " 5   HelpfulnessDenominator  568454 non-null  int64 \n",
            " 6   Score                   568454 non-null  int64 \n",
            " 7   Time                    568454 non-null  int64 \n",
            " 8   Summary                 568427 non-null  object\n",
            " 9   Text                    568454 non-null  object\n",
            "dtypes: int64(5), object(5)\n",
            "memory usage: 43.4+ MB\n"
          ]
        }
      ]
    },
    {
      "cell_type": "code",
      "source": [
        "import matplotlib.pyplot as plt\n",
        "import seaborn as sb\n",
        "import numpy as np\n",
        "%matplotlib inline"
      ],
      "metadata": {
        "id": "xCan1zv8KhsS"
      },
      "execution_count": 8,
      "outputs": []
    },
    {
      "cell_type": "markdown",
      "source": [
        "# **Verificar las calificaciones dadas para trabajar e identificar la cantidad de comentarios que hay por cada una de las calificaciones**"
      ],
      "metadata": {
        "id": "vrXV_FncZj_R"
      }
    },
    {
      "cell_type": "code",
      "source": [
        "df['Score'].unique()"
      ],
      "metadata": {
        "colab": {
          "base_uri": "https://localhost:8080/"
        },
        "id": "EIbKuECAKono",
        "outputId": "d62ecc3c-873d-45e8-b887-814fa85a95c3"
      },
      "execution_count": 9,
      "outputs": [
        {
          "output_type": "execute_result",
          "data": {
            "text/plain": [
              "array([5, 1, 4, 2, 3])"
            ]
          },
          "metadata": {},
          "execution_count": 9
        }
      ]
    },
    {
      "cell_type": "code",
      "source": [
        "df['Score'].value_counts()"
      ],
      "metadata": {
        "colab": {
          "base_uri": "https://localhost:8080/"
        },
        "id": "-31rlCeUK5VB",
        "outputId": "0195a803-c70f-4e33-d7ce-56c753ca72a6"
      },
      "execution_count": 10,
      "outputs": [
        {
          "output_type": "execute_result",
          "data": {
            "text/plain": [
              "5    363122\n",
              "4     80655\n",
              "1     52268\n",
              "3     42640\n",
              "2     29769\n",
              "Name: Score, dtype: int64"
            ]
          },
          "metadata": {},
          "execution_count": 10
        }
      ]
    },
    {
      "cell_type": "markdown",
      "source": [
        "### **Se revisan valores duplicados dentro del dataframe y se mantiene el primero, al ejecutarlo por 'ProductId' se evidencio un cambio en el data frame pero al revisar que muchos de los comentarios estan ligados por el mismo producto se realizo mediante algunas otras variables como: ['UserId','ProductId', 'Profilename', 'Time', 'Score'] Se obtienen los mismos resultados es decir  568454 filas**"
      ],
      "metadata": {
        "id": "pHHh9S5anRXP"
      }
    },
    {
      "cell_type": "code",
      "source": [
        "df = df.drop_duplicates(df.columns[~df.columns.isin(['UserId','ProductId', 'Profilename', 'Time', 'Score'])],\n",
        "                        keep='first')\n"
      ],
      "metadata": {
        "id": "84YGxUpmNnQm"
      },
      "execution_count": 11,
      "outputs": []
    },
    {
      "cell_type": "markdown",
      "source": [
        "## **Se verifica si existe alguna casilla con datos NaN**\n"
      ],
      "metadata": {
        "id": "X_pLN3gZoIF3"
      }
    },
    {
      "cell_type": "code",
      "source": [
        "df_check=df.isna()\n",
        "\n",
        "check_for_any_nan= df.isna().values.any()\n",
        "# Or\n",
        "check_for_any_nan= df.isna().any().any()\n",
        "total_nan_values = df.isna().sum().sum()\n",
        "print(df_check)\n",
        "print(\"NaN Presence:\"+str(check_for_any_nan))\n",
        "print (\"Total Number of NaN values:\"+str(total_nan_values))"
      ],
      "metadata": {
        "colab": {
          "base_uri": "https://localhost:8080/"
        },
        "id": "PHfBDKEqqikR",
        "outputId": "4b27d42f-fd4f-4d47-80be-304a42f3d48e"
      },
      "execution_count": 12,
      "outputs": [
        {
          "output_type": "stream",
          "name": "stdout",
          "text": [
            "           Id  ProductId  UserId  ProfileName  HelpfulnessNumerator  \\\n",
            "0       False      False   False        False                 False   \n",
            "1       False      False   False        False                 False   \n",
            "2       False      False   False        False                 False   \n",
            "3       False      False   False        False                 False   \n",
            "4       False      False   False        False                 False   \n",
            "...       ...        ...     ...          ...                   ...   \n",
            "568449  False      False   False        False                 False   \n",
            "568450  False      False   False        False                 False   \n",
            "568451  False      False   False        False                 False   \n",
            "568452  False      False   False        False                 False   \n",
            "568453  False      False   False        False                 False   \n",
            "\n",
            "        HelpfulnessDenominator  Score   Time  Summary   Text  \n",
            "0                        False  False  False    False  False  \n",
            "1                        False  False  False    False  False  \n",
            "2                        False  False  False    False  False  \n",
            "3                        False  False  False    False  False  \n",
            "4                        False  False  False    False  False  \n",
            "...                        ...    ...    ...      ...    ...  \n",
            "568449                   False  False  False    False  False  \n",
            "568450                   False  False  False    False  False  \n",
            "568451                   False  False  False    False  False  \n",
            "568452                   False  False  False    False  False  \n",
            "568453                   False  False  False    False  False  \n",
            "\n",
            "[568454 rows x 10 columns]\n",
            "NaN Presence:True\n",
            "Total Number of NaN values:43\n"
          ]
        }
      ]
    },
    {
      "cell_type": "markdown",
      "source": [
        "## **Se eliminan los valores con casillas nulas. Se encuentran 43 valores y quedan 568411 filas**"
      ],
      "metadata": {
        "id": "YGI3vYlEwPHb"
      }
    },
    {
      "cell_type": "code",
      "source": [
        "df=df.dropna()\n",
        "print(len(df))"
      ],
      "metadata": {
        "colab": {
          "base_uri": "https://localhost:8080/"
        },
        "id": "puNEt5BYr-ik",
        "outputId": "d4d47860-c5a2-4475-9eaf-db11accfc248"
      },
      "execution_count": 13,
      "outputs": [
        {
          "output_type": "stream",
          "name": "stdout",
          "text": [
            "568411\n"
          ]
        }
      ]
    },
    {
      "cell_type": "markdown",
      "source": [
        "## **Para una mayor relacion al momento de realizar el modelo se deben tomar las muestras de las mismas cantidades**"
      ],
      "metadata": {
        "id": "OQfEbxYJiYFQ"
      }
    },
    {
      "cell_type": "code",
      "source": [
        "\n",
        "cuenta = df['Score'].value_counts()\n",
        "minimo = min(cuenta)\n",
        "df1=df[df.Score == 5]\n",
        "df1=df1.sample(minimo)\n",
        "\n",
        "valor4=df[df.Score == 4]\n",
        "valor4=valor4.sample(minimo)\n",
        "\n",
        "valor3=df[df.Score == 3]\n",
        "valor3=valor3.sample(minimo)\n",
        "\n",
        "valor2=df[df.Score == 2]\n",
        "valor2=valor2.sample(minimo)\n",
        "\n",
        "valor1=df[df.Score == 1]\n",
        "valor1=valor1.sample(minimo)\n",
        "\n",
        "df1 = pd.concat([valor1, valor2, valor3, valor4, df1])\n",
        "df_aleatorio=df1.sample(frac=1).reset_index(drop=True)\n",
        "#print(df_aleatorio)\n",
        "#print(df_aleatorio['Score'].value_counts()\n",
        "print(cuenta)\n",
        "\n",
        "\"\"\"for n in range(1,5):\n",
        "  valor=df[df.Score == n]\n",
        "  valor=valor.sample(minimo)\n",
        "  df1.append(valor)\n",
        "  print(len(df1))\"\"\"\n"
      ],
      "metadata": {
        "colab": {
          "base_uri": "https://localhost:8080/",
          "height": 140
        },
        "id": "WCeFvQsniqVy",
        "outputId": "42abc99a-690d-47a8-dfaf-83518b6d4ec4"
      },
      "execution_count": 14,
      "outputs": [
        {
          "output_type": "stream",
          "name": "stdout",
          "text": [
            "5    363111\n",
            "4     80655\n",
            "1     52264\n",
            "3     42638\n",
            "2     29743\n",
            "Name: Score, dtype: int64\n"
          ]
        },
        {
          "output_type": "execute_result",
          "data": {
            "text/plain": [
              "'for n in range(1,5):\\n  valor=df[df.Score == n]\\n  valor=valor.sample(minimo)\\n  df1.append(valor)\\n  print(len(df1))'"
            ],
            "application/vnd.google.colaboratory.intrinsic+json": {
              "type": "string"
            }
          },
          "metadata": {},
          "execution_count": 14
        }
      ]
    },
    {
      "cell_type": "markdown",
      "source": [
        "### ** Al momento de revisar la cantidad de datos con Score '2' (que es la cantidad minima de datos) se encuentra que son 29769 filas, este dato es importante ya que si se quiere una estabilidad dentro del modelo lo correcto es tomar la misma cantidad de valores aleatorios de los demas Scores. \n",
        "###Se conforma un dataframe con la misma cantidad de datos para cada uno de los Scores con una cantidad de 148715 filas. **"
      ],
      "metadata": {
        "id": "AbIY0jto2_Qc"
      }
    },
    {
      "cell_type": "code",
      "source": [
        "print(df_aleatorio['Score'].value_counts())\n",
        "print(df_aleatorio.shape)"
      ],
      "metadata": {
        "colab": {
          "base_uri": "https://localhost:8080/"
        },
        "id": "SeSkF0aozxlL",
        "outputId": "71b38ddc-e746-4d49-80a5-76e97ea3b5fe"
      },
      "execution_count": 15,
      "outputs": [
        {
          "output_type": "stream",
          "name": "stdout",
          "text": [
            "5    29743\n",
            "2    29743\n",
            "3    29743\n",
            "4    29743\n",
            "1    29743\n",
            "Name: Score, dtype: int64\n",
            "(148715, 10)\n"
          ]
        }
      ]
    },
    {
      "cell_type": "markdown",
      "source": [
        "## **Para el tratamiento del texto se debe Tokenizar, Eliminar palabras comunes,lemmatizar**"
      ],
      "metadata": {
        "id": "NoawxyQJ49I-"
      }
    },
    {
      "cell_type": "code",
      "source": [
        "import nltk\n",
        "nltk.download('stopwords')"
      ],
      "metadata": {
        "colab": {
          "base_uri": "https://localhost:8080/"
        },
        "id": "x1_cwr8bkA7x",
        "outputId": "baec0b38-4c5c-4c8a-abf2-316c90917936"
      },
      "execution_count": 16,
      "outputs": [
        {
          "output_type": "stream",
          "name": "stdout",
          "text": [
            "[nltk_data] Downloading package stopwords to /root/nltk_data...\n",
            "[nltk_data]   Unzipping corpora/stopwords.zip.\n"
          ]
        },
        {
          "output_type": "execute_result",
          "data": {
            "text/plain": [
              "True"
            ]
          },
          "metadata": {},
          "execution_count": 16
        }
      ]
    },
    {
      "cell_type": "markdown",
      "source": [
        "## **Se utiliza libreria NLTK y se traen las STOPWORDS o \"palabras comunes\"**"
      ],
      "metadata": {
        "id": "GWVSTErLSgA7"
      }
    },
    {
      "cell_type": "code",
      "source": [
        "from nltk.corpus import stopwords\n",
        "import string\n",
        "punctuation = set(string.punctuation)\n",
        "\n",
        "stops = set(stopwords.words('english'))\n",
        "print(len(stops))\n",
        "wordsFiltered = []\n",
        "\n",
        "\n",
        "def tokenizacion(sentencia):\n",
        "    tokens = []\n",
        "    for token in sentencia.split():\n",
        "        new_token = []\n",
        "        for character in token:\n",
        "            if character not in punctuation:\n",
        "                new_token.append(character.lower())\n",
        "        if new_token:\n",
        "            tokens.append(\"\".join(new_token))\n",
        "    return tokens"
      ],
      "metadata": {
        "colab": {
          "base_uri": "https://localhost:8080/"
        },
        "id": "e4PW_iBIwjoh",
        "outputId": "b04b2d5e-6d2d-46ad-c378-ff5b5d879865"
      },
      "execution_count": 17,
      "outputs": [
        {
          "output_type": "stream",
          "name": "stdout",
          "text": [
            "179\n"
          ]
        }
      ]
    },
    {
      "cell_type": "code",
      "source": [
        "stops = set(stopwords.words('english'))\n",
        "\n",
        "def palabrascomunes(sentencia):\n",
        "  filtered_word = []\n",
        "  for token in sentencia.split():\n",
        "      nuevo_token = []\n",
        "      for token in stops:\n",
        "        nuevo_token.append(token)\n",
        "      if nuevo_token:\n",
        "          filtered_word.append(\"\".join(nuevo_token))\n",
        "  return filtered_word\n"
      ],
      "metadata": {
        "id": "gJ-U6m1fRACP"
      },
      "execution_count": 28,
      "outputs": []
    },
    {
      "cell_type": "code",
      "source": [
        "data = df_aleatorio.head(len(df_aleatorio))[\"Text\"].apply(palabrascomunes)\n",
        "print(data)\n"
      ],
      "metadata": {
        "id": "2y7KcgnUSJmj"
      },
      "execution_count": null,
      "outputs": []
    }
  ]
}